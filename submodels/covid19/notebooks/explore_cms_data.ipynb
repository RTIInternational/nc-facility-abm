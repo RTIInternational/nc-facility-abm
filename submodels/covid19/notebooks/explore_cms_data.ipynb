{
 "cells": [
  {
   "cell_type": "markdown",
   "source": [
    "# Exploring CMS Nursing Home Data\n",
    "\n",
    "In this notebook we explore the Nursing Home Provider Info dataset [available from CMS](https://data.cms.gov/provider-data/dataset/4pq5-n9py) and test its viability for use in our model."
   ],
   "metadata": {}
  },
  {
   "cell_type": "code",
   "execution_count": null,
   "source": [
    "import pandas as pd\n",
    "import numpy as np\n",
    "\n",
    "import requests"
   ],
   "outputs": [],
   "metadata": {}
  },
  {
   "cell_type": "markdown",
   "source": [
    "## Calling the CMS API\n",
    "\n",
    "This works quite well for pulling NC data only. The API has a 500 row limit per call, but this is not an issue since the total number of nursing homes in NC is less than 500.\n",
    "\n",
    "The format of the JSON payload is a list of dicts, with field names for each row. Therefore we use `from_dict` rather than `read_json` to read the JSON file into a dataframe."
   ],
   "metadata": {}
  },
  {
   "cell_type": "code",
   "execution_count": null,
   "source": [
    "offset = 0"
   ],
   "outputs": [],
   "metadata": {}
  },
  {
   "cell_type": "code",
   "execution_count": null,
   "source": [
    "def call_cms_api(\n",
    "    state: str,\n",
    "    offset: int,\n",
    "    url: str = \"https://data.cms.gov/provider-data/api/1/datastore/sql\",\n",
    "    database_id: str = \"ef61ab97-218e-57b4-bc2c-d01551e4a614\",\n",
    ") -> pd.DataFrame:\n",
    "    headers = {\n",
    "        \"accept\": \"application/json\",\n",
    "    }\n",
    "    params = (\n",
    "        (\n",
    "            \"query\",\n",
    "            f'[SELECT * FROM {database_id}][WHERE provider_state == \"{state}\"][LIMIT 500 OFFSET {offset}];',\n",
    "        ),\n",
    "        (\"show_db_columns\", \"true\"),\n",
    "    )\n",
    "    response = requests.get(url=url, headers=headers, params=params)\n",
    "    json = response.json()\n",
    "    return pd.DataFrame.from_dict(json)"
   ],
   "outputs": [],
   "metadata": {}
  },
  {
   "cell_type": "code",
   "execution_count": null,
   "source": [
    "dfs = []"
   ],
   "outputs": [],
   "metadata": {}
  },
  {
   "cell_type": "code",
   "execution_count": null,
   "source": [
    "dfs.append(call_cms_api(state=\"CA\", offset=offset))"
   ],
   "outputs": [],
   "metadata": {}
  },
  {
   "cell_type": "code",
   "execution_count": null,
   "source": [
    "while len(dfs[-1]) == 500:\n",
    "    offset += 500\n",
    "    dfs.append(call_cms_api(state=\"CA\", offset=offset))"
   ],
   "outputs": [],
   "metadata": {}
  },
  {
   "cell_type": "code",
   "execution_count": null,
   "source": [
    "cms = pd.concat(dfs)"
   ],
   "outputs": [],
   "metadata": {}
  },
  {
   "cell_type": "markdown",
   "source": [
    "## CMS dataset contents\n",
    "\n",
    "Number of certified beds is available for all nursing homes. Average number of residents per day is missing for 1.4% of nursing homes. All of these include the value \"10\" in the column `average_number_of_residents_per_day_footnote`, but I can't figure out exactly what that means. The data dictionary was no help.\n",
    "\n",
    "There are lots of other variables in this dataset that we could consider using. The staff per occupant figure could be particularly helpful if we want to model staff interactions with patients."
   ],
   "metadata": {}
  },
  {
   "cell_type": "code",
   "execution_count": null,
   "source": [
    "for col in cms.columns:\n",
    "    print(col)\n",
    "\n",
    "# NOTE: add `\"notebook.output.textLineLimit\": 500` to .vscode/settings.json to print the full output"
   ],
   "outputs": [],
   "metadata": {}
  },
  {
   "cell_type": "code",
   "execution_count": null,
   "source": [
    "cms.number_of_certified_beds = cms.number_of_certified_beds.astype(int)\n",
    "\n",
    "cms.number_of_certified_beds.describe()"
   ],
   "outputs": [],
   "metadata": {}
  },
  {
   "cell_type": "code",
   "execution_count": null,
   "source": [
    "missingness = round(cms.number_of_certified_beds.isna().sum() / len(cms.number_of_certified_beds) * 100, 2)\n",
    "print(f'Missingness = {missingness}%')"
   ],
   "outputs": [],
   "metadata": {}
  },
  {
   "cell_type": "code",
   "execution_count": null,
   "source": [
    "cms.average_number_of_residents_per_day = np.where(\n",
    "    cms.average_number_of_residents_per_day.eq(''),\n",
    "    None,\n",
    "    cms.average_number_of_residents_per_day,\n",
    ")\n",
    "cms.average_number_of_residents_per_day = cms.average_number_of_residents_per_day.astype(float)\n",
    "\n",
    "cms.average_number_of_residents_per_day.describe()\n"
   ],
   "outputs": [],
   "metadata": {}
  },
  {
   "cell_type": "code",
   "execution_count": null,
   "source": [
    "missingness = round(cms.average_number_of_residents_per_day.isna().sum() / len(cms.average_number_of_residents_per_day) * 100, 2)\n",
    "print(f'Missingness = {missingness}%')"
   ],
   "outputs": [],
   "metadata": {}
  },
  {
   "cell_type": "markdown",
   "source": [
    "## Merging with nursing home locations\n",
    "\n",
    "Locations of nursing homes for the location model are in `data/locations/nursing_homes.csv`. We need to combine locations with the occupancy data in this file.\n",
    "\n",
    "The Facility ID in the nursing homes data does not match the Federal Provider Number in the CMS data, so we'll need to find another way.\n"
   ],
   "metadata": {}
  },
  {
   "cell_type": "code",
   "execution_count": null,
   "source": [
    "nh = pd.read_csv('data/locations/nursing_homes.csv')"
   ],
   "outputs": [],
   "metadata": {}
  },
  {
   "cell_type": "markdown",
   "source": [
    "### Option 1 -  string matching\n",
    "\n",
    "Pretty ugly. We'd have to go through and manually correct as we did with hospitals. Not the end of the world but not fun."
   ],
   "metadata": {}
  },
  {
   "cell_type": "code",
   "execution_count": null,
   "source": [
    "from string import punctuation"
   ],
   "outputs": [],
   "metadata": {}
  },
  {
   "cell_type": "code",
   "execution_count": null,
   "source": [
    "punct = punctuation + \"’‘\""
   ],
   "outputs": [],
   "metadata": {}
  },
  {
   "cell_type": "code",
   "execution_count": null,
   "source": [
    "substrings_to_remove = ['INC', \"LLC\"]"
   ],
   "outputs": [],
   "metadata": {}
  },
  {
   "cell_type": "code",
   "execution_count": null,
   "source": [
    "def clean_string(column: pd.Series, chars_to_remove: str, substrings_to_remove: list):\n",
    "    col = column.copy()\n",
    "    col = col.str.upper()\n",
    "    for c in chars_to_remove:\n",
    "        col = col.str.replace(c, \"\", regex=False)\n",
    "    for s in substrings_to_remove:\n",
    "        col = col.str.replace(s, \"\", regex=False)\n",
    "    col = col.str.strip()\n",
    "    return col\n"
   ],
   "outputs": [],
   "metadata": {}
  },
  {
   "cell_type": "code",
   "execution_count": null,
   "source": [
    "cms['name_clean'] = clean_string(cms.provider_name, punct, substrings_to_remove)"
   ],
   "outputs": [],
   "metadata": {}
  },
  {
   "cell_type": "code",
   "execution_count": null,
   "source": [
    "nh['name_clean'] = clean_string(nh.Name, punct, substrings_to_remove)"
   ],
   "outputs": [],
   "metadata": {}
  },
  {
   "cell_type": "code",
   "execution_count": null,
   "source": [
    "merged = cms.merge(nh, how='outer', on='name_clean', indicator=True)"
   ],
   "outputs": [],
   "metadata": {}
  },
  {
   "cell_type": "code",
   "execution_count": null,
   "source": [
    "merged._merge.value_counts()"
   ],
   "outputs": [],
   "metadata": {}
  },
  {
   "cell_type": "markdown",
   "source": [
    "### Option 2 - regenerate lat and lon using addresses from CMS data\n",
    "\n",
    "Geocoding from CMS addresses is accurate when it works, but doesn't have a very good success rate."
   ],
   "metadata": {}
  },
  {
   "cell_type": "code",
   "execution_count": null,
   "source": [
    "# Installing geocoder directly here rather than adding it to requirements.txt, \n",
    "# since we're still at the experimental stage and not sure we'll end up using this.\n",
    "\n",
    "import sys\n",
    "!{sys.executable} -m pip install geocoder"
   ],
   "outputs": [],
   "metadata": {}
  },
  {
   "cell_type": "code",
   "execution_count": null,
   "source": [
    "import geocoder\n",
    "from matplotlib import pyplot as plt"
   ],
   "outputs": [],
   "metadata": {}
  },
  {
   "cell_type": "code",
   "execution_count": null,
   "source": [
    "matches = merged.query(\"_merge == 'both'\").copy()"
   ],
   "outputs": [],
   "metadata": {}
  },
  {
   "cell_type": "code",
   "execution_count": null,
   "source": [
    "geo = [geocoder.osm(address).json for address in matches.location]"
   ],
   "outputs": [],
   "metadata": {}
  },
  {
   "cell_type": "code",
   "execution_count": null,
   "source": [
    "success_rate = round(sum(g is not None for g in geo) / len(geo) * 100, 2)\n",
    "print(f'Geocoding successful for {success_rate}% of addresses')"
   ],
   "outputs": [],
   "metadata": {}
  },
  {
   "cell_type": "code",
   "execution_count": null,
   "source": [
    "matches['LAT_CMS'] = [g['lat'] if g else None for g in geo]\n",
    "matches['LON_CMS'] = [g['lng'] if g else None for g in geo]"
   ],
   "outputs": [],
   "metadata": {}
  },
  {
   "cell_type": "code",
   "execution_count": null,
   "source": [
    "plt.scatter(matches['LAT'], matches['LAT_CMS'])"
   ],
   "outputs": [],
   "metadata": {}
  },
  {
   "cell_type": "code",
   "execution_count": null,
   "source": [
    "plt.scatter(matches['LON'], matches['LON_CMS'])"
   ],
   "outputs": [],
   "metadata": {}
  }
 ],
 "metadata": {
  "orig_nbformat": 4,
  "language_info": {
   "name": "python",
   "version": "3.9.5",
   "mimetype": "text/x-python",
   "codemirror_mode": {
    "name": "ipython",
    "version": 3
   },
   "pygments_lexer": "ipython3",
   "nbconvert_exporter": "python",
   "file_extension": ".py"
  },
  "kernelspec": {
   "name": "python3",
   "display_name": "Python 3.9.5 64-bit ('ncabm': conda)"
  },
  "interpreter": {
   "hash": "a0ec214f40edfb89c8fd55bbb9115d9875b55a53d1e54602182d090c802c7cc3"
  }
 },
 "nbformat": 4,
 "nbformat_minor": 2
}